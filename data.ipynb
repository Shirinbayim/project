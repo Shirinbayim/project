{
 "cells": [
  {
   "cell_type": "code",
   "execution_count": 1,
   "id": "6f847978",
   "metadata": {},
   "outputs": [],
   "source": [
    "#Master Thesis_\n",
    "#Shirinbayim Qiyasli_\n",
    "#ID: 230342\n",
    "#Acknowledgments\n",
    "\n",
    "#This project was inspired by, and references, a diverse range of work from developers, researchers, \n",
    "#and the open-source community in the field of portfolio optimization and financial data analysis. We extend our heartfelt thanks to the creators and contributors of the following resources for their invaluable work:\n",
    "\n",
    "#DidierRLopes/GST-discordbot: A comprehensive project subject to the MIT license, offering insights into financial data interaction and analysis.\n",
    "#Connorrmcd6/Portfolio-Optimisation: An insightful repository providing practical approaches to portfolio optimization.\n",
    "#annakutsiya/project-stock-market-anomalies: A detailed exploration of stock market anomalies, contributing to the understanding of market behaviors."
   ]
  },
  {
   "cell_type": "code",
   "execution_count": 2,
   "id": "ad3b7725",
   "metadata": {},
   "outputs": [],
   "source": [
    "import pandas as pd\n",
    "import yfinance as yf\n",
    "from pypfopt import expected_returns, risk_models\n",
    "from pypfopt.efficient_frontier import EfficientFrontier"
   ]
  },
  {
   "cell_type": "code",
   "execution_count": 3,
   "id": "64df3e9a",
   "metadata": {},
   "outputs": [],
   "source": [
    "# Function to download stock data\n",
    "def get_portfolio_data(tickers, start_date, end_date):\n",
    "    df_stocks = pd.DataFrame()\n",
    "    for ticker in tickers:\n",
    "        df_stocks[ticker] = yf.download(ticker, start=start_date, end=end_date)['Adj Close'].dropna()\n",
    "    return df_stocks"
   ]
  },
  {
   "cell_type": "code",
   "execution_count": 4,
   "id": "9989f504",
   "metadata": {},
   "outputs": [],
   "source": [
    "# Function to calculate expected portfolio return based on allocations\n",
    "def calculate_expected_return(allocations, mean_returns):\n",
    "    portfolio_return = sum(mean_returns[ticker] * allocation for ticker, allocation in allocations.items())\n",
    "    return portfolio_return"
   ]
  },
  {
   "cell_type": "code",
   "execution_count": 5,
   "id": "2b32485c",
   "metadata": {},
   "outputs": [],
   "source": [
    "# Define tickers, time period, and allocations\n",
    "tickers = ['AMZN', 'AAPL', 'TSLA']\n",
    "start_date = '2018-12-25'\n",
    "end_date = '2023-11-29'"
   ]
  },
  {
   "cell_type": "code",
   "execution_count": 6,
   "id": "48368b49",
   "metadata": {},
   "outputs": [],
   "source": [
    "max_sharpe_allocations = {'AMZN': 0.253, 'AAPL': 0.411, 'TSLA': 0.336}\n",
    "min_vol_allocations = {'AMZN': 0.287, 'AAPL': 0.394, 'TSLA': 0.319}"
   ]
  },
  {
   "cell_type": "code",
   "execution_count": null,
   "id": "79100f25",
   "metadata": {},
   "outputs": [],
   "source": [
    "# Download historical data\n",
    "df_stocks = get_portfolio_data(tickers, start_date, end_date)"
   ]
  },
  {
   "cell_type": "code",
   "execution_count": null,
   "id": "cc0d3846",
   "metadata": {},
   "outputs": [],
   "source": [
    "# Calculate mean historical return and covariance matrix\n",
    "mu = expected_returns.mean_historical_return(df_stocks)\n",
    "Sigma = risk_models.sample_cov(df_stocks)"
   ]
  },
  {
   "cell_type": "code",
   "execution_count": null,
   "id": "7ae7e97a",
   "metadata": {},
   "outputs": [],
   "source": [
    "# Initialize Efficient Frontier\n",
    "ef = EfficientFrontier(mu, Sigma)"
   ]
  },
  {
   "cell_type": "code",
   "execution_count": null,
   "id": "18d44440",
   "metadata": {},
   "outputs": [],
   "source": [
    "# Set weights for Maximum Sharpe Ratio Portfolio and calculate performance\n",
    "ef.set_weights(max_sharpe_allocations)\n",
    "max_sharpe_performance = ef.portfolio_performance(verbose=False)"
   ]
  },
  {
   "cell_type": "code",
   "execution_count": null,
   "id": "2e987dff",
   "metadata": {},
   "outputs": [],
   "source": [
    "# Set weights for Minimum Volatility Portfolio and calculate performance\n",
    "ef.set_weights(min_vol_allocations)\n",
    "min_vol_performance = ef.portfolio_performance(verbose=False)"
   ]
  },
  {
   "cell_type": "code",
   "execution_count": null,
   "id": "adba08ec",
   "metadata": {},
   "outputs": [],
   "source": [
    "# Calculate expected annualized returns for both portfolios\n",
    "expected_return_max_sharpe = calculate_expected_return(max_sharpe_allocations, mu)\n",
    "expected_return_min_vol = calculate_expected_return(min_vol_allocations, mu)"
   ]
  },
  {
   "cell_type": "code",
   "execution_count": null,
   "id": "98a3129e",
   "metadata": {},
   "outputs": [],
   "source": [
    "# Display results\n",
    "print(\"Maximum Sharpe Ratio Portfolio Allocation:\")\n",
    "print(max_sharpe_allocations)\n",
    "print(f\"Expected Annualized Return: {expected_return_max_sharpe:.2%}\")\n",
    "print(f\"Annualized Volatility: {max_sharpe_performance[1]:.2%}\\n\")"
   ]
  },
  {
   "cell_type": "code",
   "execution_count": null,
   "id": "b14adcd0",
   "metadata": {},
   "outputs": [],
   "source": [
    "print(\"Minimum Volatility Portfolio Allocation:\")\n",
    "print(min_vol_allocations)\n",
    "print(f\"Expected Annualized Return: {expected_return_min_vol:.2%}\")\n",
    "print(f\"Annualized Volatility: {min_vol_performance[1]:.2%}\")"
   ]
  },
  {
   "cell_type": "code",
   "execution_count": null,
   "id": "7752cad4",
   "metadata": {},
   "outputs": [],
   "source": []
  }
 ],
 "metadata": {
  "kernelspec": {
   "display_name": "Python 3 (ipykernel)",
   "language": "python",
   "name": "python3"
  },
  "language_info": {
   "codemirror_mode": {
    "name": "ipython",
    "version": 3
   },
   "file_extension": ".py",
   "mimetype": "text/x-python",
   "name": "python",
   "nbconvert_exporter": "python",
   "pygments_lexer": "ipython3",
   "version": "3.11.5"
  }
 },
 "nbformat": 4,
 "nbformat_minor": 5
}
