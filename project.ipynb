{
 "cells": [
  {
   "cell_type": "code",
   "execution_count": 32,
   "id": "5a90d3f5",
   "metadata": {},
   "outputs": [],
   "source": [
    "import pandas as pd\n",
    "import yfinance as yf\n",
    "from pypfopt import expected_returns, risk_models\n",
    "from pypfopt.efficient_frontier import EfficientFrontier"
   ]
  },
  {
   "cell_type": "code",
   "execution_count": 33,
   "id": "92d95613",
   "metadata": {},
   "outputs": [],
   "source": [
    "# Function to download stock data\n",
    "def get_portfolio_data(tickers, start_date, end_date):\n",
    "    df_stocks = pd.DataFrame()\n",
    "    for ticker in tickers:\n",
    "        df_stocks[ticker] = yf.download(ticker, start=start_date, end=end_date)['Adj Close'].dropna()\n",
    "    return df_stocks"
   ]
  },
  {
   "cell_type": "code",
   "execution_count": 34,
   "id": "dcfac28a",
   "metadata": {},
   "outputs": [],
   "source": [
    "# Function to calculate expected portfolio return based on allocations\n",
    "def calculate_expected_return(allocations, mean_returns):\n",
    "    portfolio_return = sum(mean_returns[ticker] * allocation for ticker, allocation in allocations.items())\n",
    "    return portfolio_return"
   ]
  },
  {
   "cell_type": "code",
   "execution_count": 35,
   "id": "ecf9c820",
   "metadata": {},
   "outputs": [],
   "source": [
    "# Define tickers, time period, and allocations\n",
    "tickers = ['AMZN', 'AAPL', 'TSLA']\n",
    "start_date = '2018-12-25'\n",
    "end_date = '2023-11-29'"
    "# max_sharpe_allocations = {'AMZN': 0.253, 'AAPL': 0.411, 'TSLA': 0.336}\n",
    "# min_vol_allocations = {'AMZN': 0.287, 'AAPL': 0.394, 'TSLA': 0.319}"
   ]
  },
  {
   "cell_type": "code",
   "execution_count": 36,
   "id": "9c86f9e3",
   "metadata": {},
   "outputs": [
    {
     "name": "stderr",
     "output_type": "stream",
     "text": [
      "[*********************100%%**********************]  1 of 1 completed\n",
      "[*********************100%%**********************]  1 of 1 completed\n",
      "[*********************100%%**********************]  1 of 1 completed\n"
     ]
    }
   ],
   "source": [
    "# Download historical data\n",
    "df_stocks = get_portfolio_data(tickers, start_date, end_date)"
   ]
  },
  {
   "cell_type": "code",
   "execution_count": 37,
   "id": "30ddade8",
   "metadata": {},
   "outputs": [],
   "source": [
    "# Calculate mean historical return and covariance matrix\n",
    "mu = expected_returns.mean_historical_return(df_stocks)\n",
    "Sigma = risk_models.sample_cov(df_stocks)"
   ]
  },
  {
   "cell_type": "code",
   "execution_count": 38,
   "id": "5473271d",
   "metadata": {},
   "outputs": [],
   "source": [
    "# Initialize Efficient Frontier\n",
    "ef = EfficientFrontier(mu, Sigma)"
   ]
  },
  {
   "cell_type": "code",
   "execution_count": 39,
   "id": "61821299",
   "metadata": {},
   "outputs": [],
   "source": [
    "# Set weights for Maximum Sharpe Ratio Portfolio and calculate performance\n",
    "ef.set_weights(max_sharpe_allocations)\n",
    "max_sharpe_performance = ef.portfolio_performance(verbose=False)"
   ]
  },
  {
   "cell_type": "code",
   "execution_count": 40,
   "id": "5cd2d3a8",
   "metadata": {},
   "outputs": [],
   "source": [
    "# Set weights for Minimum Volatility Portfolio and calculate performance\n",
    "ef.set_weights(min_vol_allocations)\n",
    "min_vol_performance = ef.portfolio_performance(verbose=False)"
   ]
  },
  {
   "cell_type": "code",
   "execution_count": 41,
   "id": "bec369ac",
   "metadata": {},
   "outputs": [],
   "source": [
    "# Calculate expected annualized returns for both portfolios\n",
    "expected_return_max_sharpe = calculate_expected_return(max_sharpe_allocations, mu)\n",
    "expected_return_min_vol = calculate_expected_return(min_vol_allocations, mu)"
   ]
  },
  {
   "cell_type": "code",
   "execution_count": 42,
   "id": "530848b9",
   "metadata": {},
   "outputs": [
    {
     "name": "stdout",
     "output_type": "stream",
     "text": [
      "Maximum Sharpe Ratio Portfolio Allocation:\n",
      "{'AMZN': 0.253, 'AAPL': 0.411, 'TSLA': 0.336}\n",
      "Expected Annualized Return: 41.33%\n",
      "Annualized Volatility: 36.63%\n",
      "\n"
     ]
    }
   ],
   "source": [
    "# Display results\n",
    "print(\"Maximum Sharpe Ratio Portfolio Allocation:\")\n",
    "print(max_sharpe_allocations)\n",
    "print(f\"Expected Annualized Return: {expected_return_max_sharpe:.2%}\")\n",
    "print(f\"Annualized Volatility: {max_sharpe_performance[1]:.2%}\\n\")"
   ]
  },
  {
   "cell_type": "code",
   "execution_count": 43,
   "id": "bb2e3be4",
   "metadata": {},
   "outputs": [
    {
     "name": "stdout",
     "output_type": "stream",
     "text": [
      "Minimum Volatility Portfolio Allocation:\n",
      "{'AMZN': 0.287, 'AAPL': 0.394, 'TSLA': 0.319}\n",
      "Expected Annualized Return: 40.09%\n",
      "Annualized Volatility: 36.10%\n"
     ]
    }
   ],
   "source": [
    "print(\"Minimum Volatility Portfolio Allocation:\")\n",
    "print(min_vol_allocations)\n",
    "print(f\"Expected Annualized Return: {expected_return_min_vol:.2%}\")\n",
    "print(f\"Annualized Volatility: {min_vol_performance[1]:.2%}\")"
   ]
  },
  {
   "cell_type": "code",
   "execution_count": null,
   "id": "453a16dd",
   "metadata": {},
   "outputs": [],
   "source": []
  }
 ],
 "metadata": {
  "kernelspec": {
   "display_name": "Python 3 (ipykernel)",
   "language": "python",
   "name": "python3"
  },
  "language_info": {
   "codemirror_mode": {
    "name": "ipython",
    "version": 3
   },
   "file_extension": ".py",
   "mimetype": "text/x-python",
   "name": "python",
   "nbconvert_exporter": "python",
   "pygments_lexer": "ipython3",
   "version": "3.11.5"
  }
 },
 "nbformat": 4,
 "nbformat_minor": 5
}
